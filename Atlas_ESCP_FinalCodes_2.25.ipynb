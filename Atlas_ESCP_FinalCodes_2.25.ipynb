{
 "cells": [
  {
   "cell_type": "markdown",
   "metadata": {},
   "source": [
    "# Atlas ESCP "
   ]
  },
  {
   "cell_type": "code",
   "execution_count": 1,
   "metadata": {},
   "outputs": [],
   "source": [
    "# CrossCompute\n",
    "user_address = \"\"\n",
    "search_radius_in_miles = 0.5\n",
    "industry_select = \"\"\"\n",
    "    Manufacturing\n",
    "\n",
    "    Manufacturing\n",
    "    Wholesale/Warehouse/Distribution\n",
    "    Commercial\n",
    "    Landlord\n",
    "    Public Benefit Corp\n",
    "    Other\n",
    "\"\"\"\n",
    "program_select = \"\"\"\n",
    "    ICIP\n",
    "    \n",
    "    ICIP\n",
    "    ICAP\n",
    "    City/State\n",
    "    IDA\n",
    "    Relocator\n",
    "    Tenant\n",
    "\"\"\"\n",
    "target_folder = '/tmp'"
   ]
  },
  {
   "cell_type": "code",
   "execution_count": 2,
   "metadata": {},
   "outputs": [],
   "source": [
    "import pandas as pd\n",
    "import numpy as np\n",
    "import matplotlib \n",
    "import matplotlib.pyplot as plt\n",
    "\n",
    "from sklearn import model_selection\n",
    "from sklearn.linear_model import LinearRegression\n",
    "from sklearn.model_selection import cross_val_score\n",
    "from sklearn.linear_model import BayesianRidge\n",
    "from sklearn.svm import SVR\n",
    "\n",
    "\n",
    "import subprocess\n",
    "subprocess.call('pip install geopandas'.split())\n",
    "subprocess.call('pip install dill'.split())\n",
    "\n",
    "matplotlib.rcParams['figure.figsize'] = (10,10)"
   ]
  },
  {
   "cell_type": "markdown",
   "metadata": {},
   "source": [
    "## Prepare building dataset"
   ]
  },
  {
   "cell_type": "markdown",
   "metadata": {},
   "source": [
    "<font color=blue>__Tasks: <br><br> 1. Feature selection: Drop information users don't care about. <br> 2. Smooth out time factor by calculating \"Periodic Savings over months\" starting from effective date (round to month) to 2017-12-31__"
   ]
  },
  {
   "cell_type": "code",
   "execution_count": 3,
   "metadata": {},
   "outputs": [
    {
     "data": {
      "text/html": [
       "<div>\n",
       "<style scoped>\n",
       "    .dataframe tbody tr th:only-of-type {\n",
       "        vertical-align: middle;\n",
       "    }\n",
       "\n",
       "    .dataframe tbody tr th {\n",
       "        vertical-align: top;\n",
       "    }\n",
       "\n",
       "    .dataframe thead th {\n",
       "        text-align: right;\n",
       "    }\n",
       "</style>\n",
       "<table border=\"1\" class=\"dataframe\">\n",
       "  <thead>\n",
       "    <tr style=\"text-align: right;\">\n",
       "      <th></th>\n",
       "      <th>Company Name</th>\n",
       "      <th>Address</th>\n",
       "      <th>Industry</th>\n",
       "      <th>Program</th>\n",
       "      <th>Effective Date</th>\n",
       "      <th>Savings</th>\n",
       "      <th>Borough</th>\n",
       "      <th>Latitude</th>\n",
       "      <th>Longitude</th>\n",
       "    </tr>\n",
       "  </thead>\n",
       "  <tbody>\n",
       "    <tr>\n",
       "      <th>0</th>\n",
       "      <td>139 ACA Realty, Inc.</td>\n",
       "      <td>43-23 35th Street</td>\n",
       "      <td>Commercial</td>\n",
       "      <td>ICIP</td>\n",
       "      <td>04/07/2008</td>\n",
       "      <td>123975.24</td>\n",
       "      <td>QUEENS</td>\n",
       "      <td>40.745706</td>\n",
       "      <td>-73.929565</td>\n",
       "    </tr>\n",
       "    <tr>\n",
       "      <th>1</th>\n",
       "      <td>141 Lake Avenue Realty c/o JR Produce, Inc.</td>\n",
       "      <td>141 Lake Avenue</td>\n",
       "      <td>Wholesale/Warehouse/Distribution</td>\n",
       "      <td>ICIP</td>\n",
       "      <td>12/08/2009</td>\n",
       "      <td>47512.89</td>\n",
       "      <td>STATEN IS</td>\n",
       "      <td>40.633153</td>\n",
       "      <td>-74.150999</td>\n",
       "    </tr>\n",
       "    <tr>\n",
       "      <th>2</th>\n",
       "      <td>14-10 123rd Street LLC</td>\n",
       "      <td>14-10 123rd Street</td>\n",
       "      <td>Commercial</td>\n",
       "      <td>ICIP</td>\n",
       "      <td>03/04/2011</td>\n",
       "      <td>21322.89</td>\n",
       "      <td>QUEENS</td>\n",
       "      <td>40.785144</td>\n",
       "      <td>-73.844833</td>\n",
       "    </tr>\n",
       "  </tbody>\n",
       "</table>\n",
       "</div>"
      ],
      "text/plain": [
       "                                  Company Name             Address  \\\n",
       "0                         139 ACA Realty, Inc.   43-23 35th Street   \n",
       "1  141 Lake Avenue Realty c/o JR Produce, Inc.     141 Lake Avenue   \n",
       "2                       14-10 123rd Street LLC  14-10 123rd Street   \n",
       "\n",
       "                           Industry Program Effective Date    Savings  \\\n",
       "0                        Commercial    ICIP     04/07/2008  123975.24   \n",
       "1  Wholesale/Warehouse/Distribution    ICIP     12/08/2009   47512.89   \n",
       "2                        Commercial    ICIP     03/04/2011   21322.89   \n",
       "\n",
       "     Borough   Latitude  Longitude  \n",
       "0  QUEENS     40.745706 -73.929565  \n",
       "1  STATEN IS  40.633153 -74.150999  \n",
       "2  QUEENS     40.785144 -73.844833  "
      ]
     },
     "execution_count": 3,
     "metadata": {},
     "output_type": "execute_result"
    }
   ],
   "source": [
    "# Prepare builing data\n",
    "url1 = 'https://data.cityofnewyork.us/api/views/ukdt-xm28/rows.csv?accessType=DOWNLOAD'\n",
    "building_table = pd.read_csv(url1, na_values = 'n/a')\n",
    "# Rename features for better readability\n",
    "building_table = building_table.rename(columns={'Company Type': 'Program', \n",
    "                                                'Savings from begining receiving benefits': 'Savings'})\n",
    "# Feature selection\n",
    "# Come back to add features later if necessary\n",
    "building_table = building_table[['Company Name', 'Address','Industry','Program', \n",
    "                                 'Effective Date','Savings',\n",
    "                                 'Borough','Latitude','Longitude']]\n",
    "building_table[:3]"
   ]
  },
  {
   "cell_type": "code",
   "execution_count": 4,
   "metadata": {},
   "outputs": [
    {
     "data": {
      "text/plain": [
       "568"
      ]
     },
     "execution_count": 4,
     "metadata": {},
     "output_type": "execute_result"
    }
   ],
   "source": [
    "len(building_table)"
   ]
  },
  {
   "cell_type": "code",
   "execution_count": 5,
   "metadata": {},
   "outputs": [
    {
     "data": {
      "text/plain": [
       "516"
      ]
     },
     "execution_count": 5,
     "metadata": {},
     "output_type": "execute_result"
    }
   ],
   "source": [
    "# Drop rows when lonlat is NULL\n",
    "building_table.dropna(axis=0, subset=['Longitude','Latitude'], inplace = True)\n",
    "len(building_table)"
   ]
  },
  {
   "cell_type": "code",
   "execution_count": 6,
   "metadata": {},
   "outputs": [
    {
     "data": {
      "text/plain": [
       "Company Name       object\n",
       "Address            object\n",
       "Industry           object\n",
       "Program            object\n",
       "Effective Date     object\n",
       "Savings           float64\n",
       "Borough            object\n",
       "Latitude          float64\n",
       "Longitude         float64\n",
       "dtype: object"
      ]
     },
     "execution_count": 6,
     "metadata": {},
     "output_type": "execute_result"
    }
   ],
   "source": [
    "building_table.dtypes"
   ]
  },
  {
   "cell_type": "code",
   "execution_count": 7,
   "metadata": {},
   "outputs": [
    {
     "data": {
      "text/html": [
       "<div>\n",
       "<style scoped>\n",
       "    .dataframe tbody tr th:only-of-type {\n",
       "        vertical-align: middle;\n",
       "    }\n",
       "\n",
       "    .dataframe tbody tr th {\n",
       "        vertical-align: top;\n",
       "    }\n",
       "\n",
       "    .dataframe thead th {\n",
       "        text-align: right;\n",
       "    }\n",
       "</style>\n",
       "<table border=\"1\" class=\"dataframe\">\n",
       "  <thead>\n",
       "    <tr style=\"text-align: right;\">\n",
       "      <th></th>\n",
       "      <th>Company Name</th>\n",
       "      <th>Address</th>\n",
       "      <th>Industry</th>\n",
       "      <th>Program</th>\n",
       "      <th>Effective Date</th>\n",
       "      <th>Savings</th>\n",
       "      <th>Borough</th>\n",
       "      <th>Latitude</th>\n",
       "      <th>Longitude</th>\n",
       "      <th>Month Count</th>\n",
       "      <th>Periodic Savings over Months</th>\n",
       "    </tr>\n",
       "  </thead>\n",
       "  <tbody>\n",
       "    <tr>\n",
       "      <th>0</th>\n",
       "      <td>139 ACA Realty, Inc.</td>\n",
       "      <td>43-23 35th Street</td>\n",
       "      <td>Commercial</td>\n",
       "      <td>ICIP</td>\n",
       "      <td>2008-04-07</td>\n",
       "      <td>123975.24</td>\n",
       "      <td>QUEENS</td>\n",
       "      <td>40.745706</td>\n",
       "      <td>-73.929565</td>\n",
       "      <td>116</td>\n",
       "      <td>1068.75</td>\n",
       "    </tr>\n",
       "    <tr>\n",
       "      <th>1</th>\n",
       "      <td>141 Lake Avenue Realty c/o JR Produce, Inc.</td>\n",
       "      <td>141 Lake Avenue</td>\n",
       "      <td>Wholesale/Warehouse/Distribution</td>\n",
       "      <td>ICIP</td>\n",
       "      <td>2009-12-08</td>\n",
       "      <td>47512.89</td>\n",
       "      <td>STATEN IS</td>\n",
       "      <td>40.633153</td>\n",
       "      <td>-74.150999</td>\n",
       "      <td>96</td>\n",
       "      <td>494.93</td>\n",
       "    </tr>\n",
       "    <tr>\n",
       "      <th>2</th>\n",
       "      <td>14-10 123rd Street LLC</td>\n",
       "      <td>14-10 123rd Street</td>\n",
       "      <td>Commercial</td>\n",
       "      <td>ICIP</td>\n",
       "      <td>2011-03-04</td>\n",
       "      <td>21322.89</td>\n",
       "      <td>QUEENS</td>\n",
       "      <td>40.785144</td>\n",
       "      <td>-73.844833</td>\n",
       "      <td>81</td>\n",
       "      <td>263.25</td>\n",
       "    </tr>\n",
       "    <tr>\n",
       "      <th>3</th>\n",
       "      <td>183 Lorriane Street LLC</td>\n",
       "      <td>183 Lorraine Street</td>\n",
       "      <td>Wholesale/Warehouse/Distribution</td>\n",
       "      <td>ICIP</td>\n",
       "      <td>2015-11-06</td>\n",
       "      <td>105016.49</td>\n",
       "      <td>BROOKLYN</td>\n",
       "      <td>40.673106</td>\n",
       "      <td>-74.002300</td>\n",
       "      <td>25</td>\n",
       "      <td>4200.66</td>\n",
       "    </tr>\n",
       "    <tr>\n",
       "      <th>4</th>\n",
       "      <td>21st Century Optics, Inc.</td>\n",
       "      <td>47-00 33rd Street</td>\n",
       "      <td>Manufacturing</td>\n",
       "      <td>Tenant</td>\n",
       "      <td>2009-01-07</td>\n",
       "      <td>215757.20</td>\n",
       "      <td>QUEENS</td>\n",
       "      <td>40.742386</td>\n",
       "      <td>-73.932148</td>\n",
       "      <td>107</td>\n",
       "      <td>2016.42</td>\n",
       "    </tr>\n",
       "  </tbody>\n",
       "</table>\n",
       "</div>"
      ],
      "text/plain": [
       "                                  Company Name              Address  \\\n",
       "0                         139 ACA Realty, Inc.    43-23 35th Street   \n",
       "1  141 Lake Avenue Realty c/o JR Produce, Inc.      141 Lake Avenue   \n",
       "2                       14-10 123rd Street LLC   14-10 123rd Street   \n",
       "3                      183 Lorriane Street LLC  183 Lorraine Street   \n",
       "4                    21st Century Optics, Inc.    47-00 33rd Street   \n",
       "\n",
       "                           Industry Program Effective Date    Savings  \\\n",
       "0                        Commercial    ICIP     2008-04-07  123975.24   \n",
       "1  Wholesale/Warehouse/Distribution    ICIP     2009-12-08   47512.89   \n",
       "2                        Commercial    ICIP     2011-03-04   21322.89   \n",
       "3  Wholesale/Warehouse/Distribution    ICIP     2015-11-06  105016.49   \n",
       "4                     Manufacturing  Tenant     2009-01-07  215757.20   \n",
       "\n",
       "     Borough   Latitude  Longitude  Month Count  Periodic Savings over Months  \n",
       "0  QUEENS     40.745706 -73.929565          116                       1068.75  \n",
       "1  STATEN IS  40.633153 -74.150999           96                        494.93  \n",
       "2  QUEENS     40.785144 -73.844833           81                        263.25  \n",
       "3  BROOKLYN   40.673106 -74.002300           25                       4200.66  \n",
       "4  QUEENS     40.742386 -73.932148          107                       2016.42  "
      ]
     },
     "execution_count": 7,
     "metadata": {},
     "output_type": "execute_result"
    }
   ],
   "source": [
    "from datetime import date\n",
    "building_table['Effective Date'] = pd.to_datetime(building_table['Effective Date'].str.strip(), format='%m/%d/%Y')\n",
    "building_table['Month Count'] = ((pd.to_datetime('2017-12-31') - building_table['Effective Date']) / np.timedelta64(1, 'M'))\n",
    "building_table['Month Count'] = building_table['Month Count'].astype(int)  \n",
    "\n",
    "# Periodic Savings over months starting from effective date (round to month) to 2017-12-31\n",
    "building_table['Periodic Savings over Months'] = (building_table['Savings'] / building_table['Month Count']).apply(lambda x: round(x, 2))\n",
    "\n",
    "building_table.drop(['Savings' #,'Effective Date','Month Count' \n",
    "                         ], axis=1) \n",
    "building_table.head()"
   ]
  },
  {
   "cell_type": "markdown",
   "metadata": {},
   "source": [
    "## Now load the tree dataset"
   ]
  },
  {
   "cell_type": "markdown",
   "metadata": {},
   "source": [
    "<font color=blue>__Tasks: <br><br>1. Feature selection: Longitude, Latitude, status, tree_id for later tree count around each location from building table<br> 2. Define a function to expedite data processing for large dataset__"
   ]
  },
  {
   "cell_type": "code",
   "execution_count": 8,
   "metadata": {},
   "outputs": [],
   "source": [
    "# Load function\n",
    "def load(\n",
    "    endpoint_url,\n",
    "    selected_columns=None,\n",
    "    buffer_size=1000,\n",
    "    search_term_by_column=None,\n",
    "    **kw,\n",
    "):\n",
    "    buffer_url = (f'{endpoint_url}?$limit={buffer_size}')\n",
    "    if selected_columns:\n",
    "        select_string = ','.join(selected_columns)\n",
    "        buffer_url += f'&$select={select_string}'\n",
    "    for column, search_term in (search_term_by_column or {}).items():\n",
    "        buffer_url += f'&$where={column}+like+\"%25{search_term}%25\"'\n",
    "    print(buffer_url)\n",
    "    tables = []\n",
    "    \n",
    "    if endpoint_url.endswith('.json'):\n",
    "        f = pd.read_json\n",
    "    else:\n",
    "        f = pd.read_csv\n",
    "\n",
    "    t = f(buffer_url, **kw)\n",
    "    while len(t):\n",
    "        print(len(tables) * buffer_size + len(t))\n",
    "        tables.append(t)\n",
    "        offset = buffer_size * len(tables)\n",
    "        t = f(buffer_url + f'&$offset={offset}', **kw)\n",
    "    return pd.concat(tables, sort=False)"
   ]
  },
  {
   "cell_type": "code",
   "execution_count": 9,
   "metadata": {},
   "outputs": [
    {
     "name": "stdout",
     "output_type": "stream",
     "text": [
      "https://data.cityofnewyork.us/resource/nwxe-4ae8.csv?$limit=100000&$select=tree_id,status,Latitude,Longitude\n",
      "100000\n",
      "200000\n",
      "300000\n",
      "400000\n",
      "500000\n",
      "600000\n",
      "683788\n",
      "CPU times: user 1.01 s, sys: 286 ms, total: 1.3 s\n",
      "Wall time: 8.01 s\n"
     ]
    }
   ],
   "source": [
    "%%time\n",
    "endpoint_url = 'https://data.cityofnewyork.us/resource/nwxe-4ae8.csv'\n",
    "selected_columns = 'tree_id', 'status', 'Latitude', 'Longitude'\n",
    "buffer_size = 100000\n",
    "tree_table = load(endpoint_url, selected_columns, buffer_size)"
   ]
  },
  {
   "cell_type": "code",
   "execution_count": 10,
   "metadata": {},
   "outputs": [
    {
     "data": {
      "text/html": [
       "<div>\n",
       "<style scoped>\n",
       "    .dataframe tbody tr th:only-of-type {\n",
       "        vertical-align: middle;\n",
       "    }\n",
       "\n",
       "    .dataframe tbody tr th {\n",
       "        vertical-align: top;\n",
       "    }\n",
       "\n",
       "    .dataframe thead th {\n",
       "        text-align: right;\n",
       "    }\n",
       "</style>\n",
       "<table border=\"1\" class=\"dataframe\">\n",
       "  <thead>\n",
       "    <tr style=\"text-align: right;\">\n",
       "      <th></th>\n",
       "      <th>Latitude</th>\n",
       "      <th>Longitude</th>\n",
       "      <th>status</th>\n",
       "      <th>tree_id</th>\n",
       "    </tr>\n",
       "  </thead>\n",
       "  <tbody>\n",
       "    <tr>\n",
       "      <th>0</th>\n",
       "      <td>40.723092</td>\n",
       "      <td>-73.844215</td>\n",
       "      <td>Alive</td>\n",
       "      <td>180683</td>\n",
       "    </tr>\n",
       "    <tr>\n",
       "      <th>1</th>\n",
       "      <td>40.794111</td>\n",
       "      <td>-73.818679</td>\n",
       "      <td>Alive</td>\n",
       "      <td>200540</td>\n",
       "    </tr>\n",
       "    <tr>\n",
       "      <th>2</th>\n",
       "      <td>40.717581</td>\n",
       "      <td>-73.936608</td>\n",
       "      <td>Alive</td>\n",
       "      <td>204026</td>\n",
       "    </tr>\n",
       "    <tr>\n",
       "      <th>3</th>\n",
       "      <td>40.713537</td>\n",
       "      <td>-73.934456</td>\n",
       "      <td>Alive</td>\n",
       "      <td>204337</td>\n",
       "    </tr>\n",
       "    <tr>\n",
       "      <th>4</th>\n",
       "      <td>40.666778</td>\n",
       "      <td>-73.975979</td>\n",
       "      <td>Alive</td>\n",
       "      <td>189565</td>\n",
       "    </tr>\n",
       "  </tbody>\n",
       "</table>\n",
       "</div>"
      ],
      "text/plain": [
       "    Latitude  Longitude status  tree_id\n",
       "0  40.723092 -73.844215  Alive   180683\n",
       "1  40.794111 -73.818679  Alive   200540\n",
       "2  40.717581 -73.936608  Alive   204026\n",
       "3  40.713537 -73.934456  Alive   204337\n",
       "4  40.666778 -73.975979  Alive   189565"
      ]
     },
     "execution_count": 10,
     "metadata": {},
     "output_type": "execute_result"
    }
   ],
   "source": [
    "tree_table.head()"
   ]
  },
  {
   "cell_type": "code",
   "execution_count": 11,
   "metadata": {},
   "outputs": [
    {
     "data": {
      "text/html": [
       "<div>\n",
       "<style scoped>\n",
       "    .dataframe tbody tr th:only-of-type {\n",
       "        vertical-align: middle;\n",
       "    }\n",
       "\n",
       "    .dataframe tbody tr th {\n",
       "        vertical-align: top;\n",
       "    }\n",
       "\n",
       "    .dataframe thead th {\n",
       "        text-align: right;\n",
       "    }\n",
       "</style>\n",
       "<table border=\"1\" class=\"dataframe\">\n",
       "  <thead>\n",
       "    <tr style=\"text-align: right;\">\n",
       "      <th></th>\n",
       "      <th>Latitude</th>\n",
       "      <th>Longitude</th>\n",
       "      <th>tree_id</th>\n",
       "    </tr>\n",
       "  </thead>\n",
       "  <tbody>\n",
       "    <tr>\n",
       "      <th>0</th>\n",
       "      <td>40.723092</td>\n",
       "      <td>-73.844215</td>\n",
       "      <td>180683</td>\n",
       "    </tr>\n",
       "    <tr>\n",
       "      <th>1</th>\n",
       "      <td>40.794111</td>\n",
       "      <td>-73.818679</td>\n",
       "      <td>200540</td>\n",
       "    </tr>\n",
       "    <tr>\n",
       "      <th>2</th>\n",
       "      <td>40.717581</td>\n",
       "      <td>-73.936608</td>\n",
       "      <td>204026</td>\n",
       "    </tr>\n",
       "    <tr>\n",
       "      <th>3</th>\n",
       "      <td>40.713537</td>\n",
       "      <td>-73.934456</td>\n",
       "      <td>204337</td>\n",
       "    </tr>\n",
       "    <tr>\n",
       "      <th>4</th>\n",
       "      <td>40.666778</td>\n",
       "      <td>-73.975979</td>\n",
       "      <td>189565</td>\n",
       "    </tr>\n",
       "  </tbody>\n",
       "</table>\n",
       "</div>"
      ],
      "text/plain": [
       "    Latitude  Longitude  tree_id\n",
       "0  40.723092 -73.844215   180683\n",
       "1  40.794111 -73.818679   200540\n",
       "2  40.717581 -73.936608   204026\n",
       "3  40.713537 -73.934456   204337\n",
       "4  40.666778 -73.975979   189565"
      ]
     },
     "execution_count": 11,
     "metadata": {},
     "output_type": "execute_result"
    }
   ],
   "source": [
    "tree_table.dropna(subset=['Longitude', 'Latitude'], inplace=True)\n",
    "tree_table[tree_table['status'] == 'Alive'].iloc[:3,] #filter out stump and dead trees\n",
    "tree_table.drop(['status'], axis = 1).head()"
   ]
  },
  {
   "cell_type": "markdown",
   "metadata": {},
   "source": [
    "## Get total tree count within 0.5 mile around each participant"
   ]
  },
  {
   "cell_type": "code",
   "execution_count": 12,
   "metadata": {},
   "outputs": [],
   "source": [
    "# Make kdtree\n",
    "from pysal.lib.cg import KDTree,RADIUS_EARTH_MILES\n",
    "\n",
    "tree_xys = tree_table[['Longitude', 'Latitude']].values\n",
    "tree_count = len(tree_xys)\n",
    "bin_tree = KDTree(tree_xys, distance_metric='Arc', radius=RADIUS_EARTH_MILES)\n",
    "radius_in_miles = 0.5\n",
    "\n",
    "\n",
    "def get_tree_count(r):\n",
    "    xy = r['Longitude'], r['Latitude']\n",
    "    distances, indices = bin_tree.query(\n",
    "        xy, k=tree_count, distance_upper_bound=radius_in_miles)\n",
    "    indices = indices[indices < tree_count]\n",
    "    return len(indices)"
   ]
  },
  {
   "cell_type": "code",
   "execution_count": 13,
   "metadata": {},
   "outputs": [
    {
     "data": {
      "text/html": [
       "<div>\n",
       "<style scoped>\n",
       "    .dataframe tbody tr th:only-of-type {\n",
       "        vertical-align: middle;\n",
       "    }\n",
       "\n",
       "    .dataframe tbody tr th {\n",
       "        vertical-align: top;\n",
       "    }\n",
       "\n",
       "    .dataframe thead th {\n",
       "        text-align: right;\n",
       "    }\n",
       "</style>\n",
       "<table border=\"1\" class=\"dataframe\">\n",
       "  <thead>\n",
       "    <tr style=\"text-align: right;\">\n",
       "      <th></th>\n",
       "      <th>Company Name</th>\n",
       "      <th>Address</th>\n",
       "      <th>Industry</th>\n",
       "      <th>Program</th>\n",
       "      <th>Effective Date</th>\n",
       "      <th>Savings</th>\n",
       "      <th>Borough</th>\n",
       "      <th>Latitude</th>\n",
       "      <th>Longitude</th>\n",
       "      <th>Month Count</th>\n",
       "      <th>Periodic Savings over Months</th>\n",
       "      <th>Total Tree Count within 0.5 Mile</th>\n",
       "    </tr>\n",
       "  </thead>\n",
       "  <tbody>\n",
       "    <tr>\n",
       "      <th>0</th>\n",
       "      <td>139 ACA Realty, Inc.</td>\n",
       "      <td>43-23 35th Street</td>\n",
       "      <td>Commercial</td>\n",
       "      <td>ICIP</td>\n",
       "      <td>2008-04-07</td>\n",
       "      <td>123975.24</td>\n",
       "      <td>QUEENS</td>\n",
       "      <td>40.745706</td>\n",
       "      <td>-73.929565</td>\n",
       "      <td>116</td>\n",
       "      <td>1068.75</td>\n",
       "      <td>1331</td>\n",
       "    </tr>\n",
       "    <tr>\n",
       "      <th>1</th>\n",
       "      <td>141 Lake Avenue Realty c/o JR Produce, Inc.</td>\n",
       "      <td>141 Lake Avenue</td>\n",
       "      <td>Wholesale/Warehouse/Distribution</td>\n",
       "      <td>ICIP</td>\n",
       "      <td>2009-12-08</td>\n",
       "      <td>47512.89</td>\n",
       "      <td>STATEN IS</td>\n",
       "      <td>40.633153</td>\n",
       "      <td>-74.150999</td>\n",
       "      <td>96</td>\n",
       "      <td>494.93</td>\n",
       "      <td>1390</td>\n",
       "    </tr>\n",
       "    <tr>\n",
       "      <th>2</th>\n",
       "      <td>14-10 123rd Street LLC</td>\n",
       "      <td>14-10 123rd Street</td>\n",
       "      <td>Commercial</td>\n",
       "      <td>ICIP</td>\n",
       "      <td>2011-03-04</td>\n",
       "      <td>21322.89</td>\n",
       "      <td>QUEENS</td>\n",
       "      <td>40.785144</td>\n",
       "      <td>-73.844833</td>\n",
       "      <td>81</td>\n",
       "      <td>263.25</td>\n",
       "      <td>2195</td>\n",
       "    </tr>\n",
       "  </tbody>\n",
       "</table>\n",
       "</div>"
      ],
      "text/plain": [
       "                                  Company Name             Address  \\\n",
       "0                         139 ACA Realty, Inc.   43-23 35th Street   \n",
       "1  141 Lake Avenue Realty c/o JR Produce, Inc.     141 Lake Avenue   \n",
       "2                       14-10 123rd Street LLC  14-10 123rd Street   \n",
       "\n",
       "                           Industry Program Effective Date    Savings  \\\n",
       "0                        Commercial    ICIP     2008-04-07  123975.24   \n",
       "1  Wholesale/Warehouse/Distribution    ICIP     2009-12-08   47512.89   \n",
       "2                        Commercial    ICIP     2011-03-04   21322.89   \n",
       "\n",
       "     Borough   Latitude  Longitude  Month Count  Periodic Savings over Months  \\\n",
       "0  QUEENS     40.745706 -73.929565          116                       1068.75   \n",
       "1  STATEN IS  40.633153 -74.150999           96                        494.93   \n",
       "2  QUEENS     40.785144 -73.844833           81                        263.25   \n",
       "\n",
       "   Total Tree Count within 0.5 Mile  \n",
       "0                              1331  \n",
       "1                              1390  \n",
       "2                              2195  "
      ]
     },
     "execution_count": 13,
     "metadata": {},
     "output_type": "execute_result"
    }
   ],
   "source": [
    "building_table['Total Tree Count within 0.5 Mile'] = building_table.apply(get_tree_count, axis=1)\n",
    "building_table[:3]"
   ]
  },
  {
   "cell_type": "code",
   "execution_count": 14,
   "metadata": {},
   "outputs": [
    {
     "name": "stdout",
     "output_type": "stream",
     "text": [
      "final_table_path = /tmp/Table with tree count.csv\n"
     ]
    }
   ],
   "source": [
    "# Save your output files in target_folder\n",
    "target_folder = '/tmp'\n",
    "target_path = target_folder + '/Table with tree count.csv'\n",
    "building_table.to_csv(target_path, index=False)\n",
    "\n",
    "# Render the file as a table\n",
    "print('final_table_path = %s' % target_path)"
   ]
  },
  {
   "cell_type": "code",
   "execution_count": 15,
   "metadata": {},
   "outputs": [],
   "source": [
    "building_table.to_csv('Table with tree count.csv', sep=',')"
   ]
  },
  {
   "cell_type": "markdown",
   "metadata": {},
   "source": [
    "<font color=blue>__Note:<br><br>1. Tree count within 0.5 miles is attached as a new column to the building table at this point.<br> 2. Ready table is saved to file 'Table with tree count.csv' for later analysis__</font><br><br>\n"
   ]
  },
  {
   "cell_type": "code",
   "execution_count": 16,
   "metadata": {},
   "outputs": [
    {
     "data": {
      "text/html": [
       "<div>\n",
       "<style scoped>\n",
       "    .dataframe tbody tr th:only-of-type {\n",
       "        vertical-align: middle;\n",
       "    }\n",
       "\n",
       "    .dataframe tbody tr th {\n",
       "        vertical-align: top;\n",
       "    }\n",
       "\n",
       "    .dataframe thead th {\n",
       "        text-align: right;\n",
       "    }\n",
       "</style>\n",
       "<table border=\"1\" class=\"dataframe\">\n",
       "  <thead>\n",
       "    <tr style=\"text-align: right;\">\n",
       "      <th></th>\n",
       "      <th>Company Name</th>\n",
       "      <th>Address</th>\n",
       "      <th>Industry</th>\n",
       "      <th>Program</th>\n",
       "      <th>Effective Date</th>\n",
       "      <th>Savings</th>\n",
       "      <th>Borough</th>\n",
       "      <th>Latitude</th>\n",
       "      <th>Longitude</th>\n",
       "      <th>Month Count</th>\n",
       "      <th>Periodic Savings over Months</th>\n",
       "      <th>Total Tree Count within 0.5 Mile</th>\n",
       "    </tr>\n",
       "  </thead>\n",
       "  <tbody>\n",
       "    <tr>\n",
       "      <th>0</th>\n",
       "      <td>139 ACA Realty, Inc.</td>\n",
       "      <td>43-23 35th Street</td>\n",
       "      <td>Commercial</td>\n",
       "      <td>ICIP</td>\n",
       "      <td>2008-04-07</td>\n",
       "      <td>123975.24</td>\n",
       "      <td>QUEENS</td>\n",
       "      <td>40.745706</td>\n",
       "      <td>-73.929565</td>\n",
       "      <td>116</td>\n",
       "      <td>1068.75</td>\n",
       "      <td>1331</td>\n",
       "    </tr>\n",
       "    <tr>\n",
       "      <th>1</th>\n",
       "      <td>141 Lake Avenue Realty c/o JR Produce, Inc.</td>\n",
       "      <td>141 Lake Avenue</td>\n",
       "      <td>Wholesale/Warehouse/Distribution</td>\n",
       "      <td>ICIP</td>\n",
       "      <td>2009-12-08</td>\n",
       "      <td>47512.89</td>\n",
       "      <td>STATEN IS</td>\n",
       "      <td>40.633153</td>\n",
       "      <td>-74.150999</td>\n",
       "      <td>96</td>\n",
       "      <td>494.93</td>\n",
       "      <td>1390</td>\n",
       "    </tr>\n",
       "    <tr>\n",
       "      <th>2</th>\n",
       "      <td>14-10 123rd Street LLC</td>\n",
       "      <td>14-10 123rd Street</td>\n",
       "      <td>Commercial</td>\n",
       "      <td>ICIP</td>\n",
       "      <td>2011-03-04</td>\n",
       "      <td>21322.89</td>\n",
       "      <td>QUEENS</td>\n",
       "      <td>40.785144</td>\n",
       "      <td>-73.844833</td>\n",
       "      <td>81</td>\n",
       "      <td>263.25</td>\n",
       "      <td>2195</td>\n",
       "    </tr>\n",
       "    <tr>\n",
       "      <th>3</th>\n",
       "      <td>183 Lorriane Street LLC</td>\n",
       "      <td>183 Lorraine Street</td>\n",
       "      <td>Wholesale/Warehouse/Distribution</td>\n",
       "      <td>ICIP</td>\n",
       "      <td>2015-11-06</td>\n",
       "      <td>105016.49</td>\n",
       "      <td>BROOKLYN</td>\n",
       "      <td>40.673106</td>\n",
       "      <td>-74.002300</td>\n",
       "      <td>25</td>\n",
       "      <td>4200.66</td>\n",
       "      <td>1254</td>\n",
       "    </tr>\n",
       "    <tr>\n",
       "      <th>4</th>\n",
       "      <td>21st Century Optics, Inc.</td>\n",
       "      <td>47-00 33rd Street</td>\n",
       "      <td>Manufacturing</td>\n",
       "      <td>Tenant</td>\n",
       "      <td>2009-01-07</td>\n",
       "      <td>215757.20</td>\n",
       "      <td>QUEENS</td>\n",
       "      <td>40.742386</td>\n",
       "      <td>-73.932148</td>\n",
       "      <td>107</td>\n",
       "      <td>2016.42</td>\n",
       "      <td>1136</td>\n",
       "    </tr>\n",
       "  </tbody>\n",
       "</table>\n",
       "</div>"
      ],
      "text/plain": [
       "                                  Company Name              Address  \\\n",
       "0                         139 ACA Realty, Inc.    43-23 35th Street   \n",
       "1  141 Lake Avenue Realty c/o JR Produce, Inc.      141 Lake Avenue   \n",
       "2                       14-10 123rd Street LLC   14-10 123rd Street   \n",
       "3                      183 Lorriane Street LLC  183 Lorraine Street   \n",
       "4                    21st Century Optics, Inc.    47-00 33rd Street   \n",
       "\n",
       "                           Industry Program Effective Date    Savings  \\\n",
       "0                        Commercial    ICIP     2008-04-07  123975.24   \n",
       "1  Wholesale/Warehouse/Distribution    ICIP     2009-12-08   47512.89   \n",
       "2                        Commercial    ICIP     2011-03-04   21322.89   \n",
       "3  Wholesale/Warehouse/Distribution    ICIP     2015-11-06  105016.49   \n",
       "4                     Manufacturing  Tenant     2009-01-07  215757.20   \n",
       "\n",
       "     Borough   Latitude  Longitude  Month Count  Periodic Savings over Months  \\\n",
       "0  QUEENS     40.745706 -73.929565          116                       1068.75   \n",
       "1  STATEN IS  40.633153 -74.150999           96                        494.93   \n",
       "2  QUEENS     40.785144 -73.844833           81                        263.25   \n",
       "3  BROOKLYN   40.673106 -74.002300           25                       4200.66   \n",
       "4  QUEENS     40.742386 -73.932148          107                       2016.42   \n",
       "\n",
       "   Total Tree Count within 0.5 Mile  \n",
       "0                              1331  \n",
       "1                              1390  \n",
       "2                              2195  \n",
       "3                              1254  \n",
       "4                              1136  "
      ]
     },
     "execution_count": 16,
     "metadata": {},
     "output_type": "execute_result"
    }
   ],
   "source": [
    "import pandas as pd\n",
    "import numpy as np\n",
    "building_table.head()"
   ]
  },
  {
   "cell_type": "markdown",
   "metadata": {},
   "source": [
    "## Get average periodic savings of all participants, within 0.5 mile \n",
    "<font color=blue>__We tried count in user selected industry and program__"
   ]
  },
  {
   "cell_type": "code",
   "execution_count": 17,
   "metadata": {},
   "outputs": [],
   "source": [
    "# Filter table by user selected program and industry\n",
    "#building_table = building_table.loc[building_table['Industry'] == industry_select].loc[building_table['Program'] == program_select]"
   ]
  },
  {
   "cell_type": "markdown",
   "metadata": {},
   "source": [
    "<font color=blue>We decided to drop industry and program becuase not enough data was left with those filters on."
   ]
  },
  {
   "cell_type": "code",
   "execution_count": 18,
   "metadata": {},
   "outputs": [],
   "source": [
    "# Make kdtree\n",
    "radius_in_miles = 0.5\n",
    "\n",
    "from pysal.lib.cg.kdtree import KDTree\n",
    "from pysal.lib.cg import RADIUS_EARTH_MILES\n",
    "sav_xys = building_table[['Longitude', 'Latitude']].values\n",
    "bin_sav = KDTree(sav_xys, distance_metric='Arc', radius=RADIUS_EARTH_MILES)\n",
    "sav_count = len(sav_xys)"
   ]
  },
  {
   "cell_type": "code",
   "execution_count": 19,
   "metadata": {},
   "outputs": [],
   "source": [
    "def get_sav_average(r):\n",
    "    xy = r['Longitude'], r['Latitude']\n",
    "    distances, indices = bin_sav.query(\n",
    "        xy,\n",
    "        k=len(bin_sav.data),\n",
    "        distance_upper_bound=radius_in_miles)\n",
    "    indices = indices[indices < sav_count]\n",
    "    indices = [int(x) for x in indices]\n",
    "    selected_sav_table = building_table.loc[building_table.index[indices]]\n",
    "    return selected_sav_table['Periodic Savings over Months'].mean()"
   ]
  },
  {
   "cell_type": "code",
   "execution_count": 20,
   "metadata": {},
   "outputs": [
    {
     "data": {
      "text/html": [
       "<div>\n",
       "<style scoped>\n",
       "    .dataframe tbody tr th:only-of-type {\n",
       "        vertical-align: middle;\n",
       "    }\n",
       "\n",
       "    .dataframe tbody tr th {\n",
       "        vertical-align: top;\n",
       "    }\n",
       "\n",
       "    .dataframe thead th {\n",
       "        text-align: right;\n",
       "    }\n",
       "</style>\n",
       "<table border=\"1\" class=\"dataframe\">\n",
       "  <thead>\n",
       "    <tr style=\"text-align: right;\">\n",
       "      <th></th>\n",
       "      <th>Company Name</th>\n",
       "      <th>Address</th>\n",
       "      <th>Industry</th>\n",
       "      <th>Program</th>\n",
       "      <th>Effective Date</th>\n",
       "      <th>Savings</th>\n",
       "      <th>Borough</th>\n",
       "      <th>Latitude</th>\n",
       "      <th>Longitude</th>\n",
       "      <th>Month Count</th>\n",
       "      <th>Periodic Savings over Months</th>\n",
       "      <th>Total Tree Count within 0.5 Mile</th>\n",
       "      <th>Periodic Savings within 0.5 Mile</th>\n",
       "    </tr>\n",
       "  </thead>\n",
       "  <tbody>\n",
       "    <tr>\n",
       "      <th>0</th>\n",
       "      <td>139 ACA Realty, Inc.</td>\n",
       "      <td>43-23 35th Street</td>\n",
       "      <td>Commercial</td>\n",
       "      <td>ICIP</td>\n",
       "      <td>2008-04-07</td>\n",
       "      <td>123975.24</td>\n",
       "      <td>QUEENS</td>\n",
       "      <td>40.745706</td>\n",
       "      <td>-73.929565</td>\n",
       "      <td>116</td>\n",
       "      <td>1068.75</td>\n",
       "      <td>1331</td>\n",
       "      <td>1419.727333</td>\n",
       "    </tr>\n",
       "    <tr>\n",
       "      <th>1</th>\n",
       "      <td>141 Lake Avenue Realty c/o JR Produce, Inc.</td>\n",
       "      <td>141 Lake Avenue</td>\n",
       "      <td>Wholesale/Warehouse/Distribution</td>\n",
       "      <td>ICIP</td>\n",
       "      <td>2009-12-08</td>\n",
       "      <td>47512.89</td>\n",
       "      <td>STATEN IS</td>\n",
       "      <td>40.633153</td>\n",
       "      <td>-74.150999</td>\n",
       "      <td>96</td>\n",
       "      <td>494.93</td>\n",
       "      <td>1390</td>\n",
       "      <td>336.525000</td>\n",
       "    </tr>\n",
       "    <tr>\n",
       "      <th>2</th>\n",
       "      <td>14-10 123rd Street LLC</td>\n",
       "      <td>14-10 123rd Street</td>\n",
       "      <td>Commercial</td>\n",
       "      <td>ICIP</td>\n",
       "      <td>2011-03-04</td>\n",
       "      <td>21322.89</td>\n",
       "      <td>QUEENS</td>\n",
       "      <td>40.785144</td>\n",
       "      <td>-73.844833</td>\n",
       "      <td>81</td>\n",
       "      <td>263.25</td>\n",
       "      <td>2195</td>\n",
       "      <td>1079.380000</td>\n",
       "    </tr>\n",
       "  </tbody>\n",
       "</table>\n",
       "</div>"
      ],
      "text/plain": [
       "                                  Company Name             Address  \\\n",
       "0                         139 ACA Realty, Inc.   43-23 35th Street   \n",
       "1  141 Lake Avenue Realty c/o JR Produce, Inc.     141 Lake Avenue   \n",
       "2                       14-10 123rd Street LLC  14-10 123rd Street   \n",
       "\n",
       "                           Industry Program Effective Date    Savings  \\\n",
       "0                        Commercial    ICIP     2008-04-07  123975.24   \n",
       "1  Wholesale/Warehouse/Distribution    ICIP     2009-12-08   47512.89   \n",
       "2                        Commercial    ICIP     2011-03-04   21322.89   \n",
       "\n",
       "     Borough   Latitude  Longitude  Month Count  Periodic Savings over Months  \\\n",
       "0  QUEENS     40.745706 -73.929565          116                       1068.75   \n",
       "1  STATEN IS  40.633153 -74.150999           96                        494.93   \n",
       "2  QUEENS     40.785144 -73.844833           81                        263.25   \n",
       "\n",
       "   Total Tree Count within 0.5 Mile  Periodic Savings within 0.5 Mile  \n",
       "0                              1331                       1419.727333  \n",
       "1                              1390                        336.525000  \n",
       "2                              2195                       1079.380000  "
      ]
     },
     "execution_count": 20,
     "metadata": {},
     "output_type": "execute_result"
    }
   ],
   "source": [
    "building_table['Periodic Savings within 0.5 Mile'] = building_table.apply(get_sav_average, axis=1)\n",
    "building_table[:3]"
   ]
  },
  {
   "cell_type": "code",
   "execution_count": 21,
   "metadata": {},
   "outputs": [
    {
     "name": "stdout",
     "output_type": "stream",
     "text": [
      "final_table_path = /tmp/Table with periodic savings(within 0.5 Mile) and tree count(within 0.5 Mile).csv\n"
     ]
    }
   ],
   "source": [
    "# Save your output files in target_folder\n",
    "target_path = target_folder + '/Table with periodic savings(within 0.5 Mile) and tree count(within 0.5 Mile).csv'\n",
    "building_table.to_csv(target_path, index=False)\n",
    "\n",
    "# Render the file as a table\n",
    "print('final_table_path = %s' % target_path)"
   ]
  },
  {
   "cell_type": "code",
   "execution_count": 22,
   "metadata": {},
   "outputs": [],
   "source": [
    "building_table.to_csv('Table with periodic savings(within 0.5 Mile) and tree count(within 0.5 Mile).csv', sep=',')"
   ]
  },
  {
   "cell_type": "markdown",
   "metadata": {},
   "source": [
    "## Render Map"
   ]
  },
  {
   "cell_type": "code",
   "execution_count": 23,
   "metadata": {},
   "outputs": [],
   "source": [
    "# rename building table with tree count and periodic savings around\n",
    "ready_table = building_table.copy()\n",
    "#ready_table.drop(['Unnamed: 0'], axis=1)"
   ]
  },
  {
   "cell_type": "code",
   "execution_count": 24,
   "metadata": {},
   "outputs": [],
   "source": [
    "ready_geotable = ready_table.copy()  # Prevent SettingwithCopyWarning"
   ]
  },
  {
   "cell_type": "code",
   "execution_count": 25,
   "metadata": {},
   "outputs": [],
   "source": [
    "# Set radius for each point\n",
    "# The bigger the circle, the more the company saved\n",
    "ready_geotable['RadiusInPixelsRange5-50'] = ready_geotable['Periodic Savings over Months']"
   ]
  },
  {
   "cell_type": "code",
   "execution_count": 26,
   "metadata": {},
   "outputs": [],
   "source": [
    "# Set color for each point using a gradient\n",
    "# The darker the color, the more trees the company is surrounded by\n",
    "ready_geotable['FillRedsFromMean'] = ready_geotable['Total Tree Count within 0.5 Mile']"
   ]
  },
  {
   "cell_type": "code",
   "execution_count": 27,
   "metadata": {},
   "outputs": [
    {
     "data": {
      "text/html": [
       "<div>\n",
       "<style scoped>\n",
       "    .dataframe tbody tr th:only-of-type {\n",
       "        vertical-align: middle;\n",
       "    }\n",
       "\n",
       "    .dataframe tbody tr th {\n",
       "        vertical-align: top;\n",
       "    }\n",
       "\n",
       "    .dataframe thead th {\n",
       "        text-align: right;\n",
       "    }\n",
       "</style>\n",
       "<table border=\"1\" class=\"dataframe\">\n",
       "  <thead>\n",
       "    <tr style=\"text-align: right;\">\n",
       "      <th></th>\n",
       "      <th>Company Name</th>\n",
       "      <th>Address</th>\n",
       "      <th>Industry</th>\n",
       "      <th>Program</th>\n",
       "      <th>Effective Date</th>\n",
       "      <th>Savings</th>\n",
       "      <th>Borough</th>\n",
       "      <th>Latitude</th>\n",
       "      <th>Longitude</th>\n",
       "      <th>Month Count</th>\n",
       "      <th>Periodic Savings over Months</th>\n",
       "      <th>Total Tree Count within 0.5 Mile</th>\n",
       "      <th>Periodic Savings within 0.5 Mile</th>\n",
       "      <th>RadiusInPixelsRange5-50</th>\n",
       "      <th>FillRedsFromMean</th>\n",
       "    </tr>\n",
       "  </thead>\n",
       "  <tbody>\n",
       "    <tr>\n",
       "      <th>0</th>\n",
       "      <td>139 ACA Realty, Inc.</td>\n",
       "      <td>43-23 35th Street</td>\n",
       "      <td>Commercial</td>\n",
       "      <td>ICIP</td>\n",
       "      <td>2008-04-07</td>\n",
       "      <td>123975.24</td>\n",
       "      <td>QUEENS</td>\n",
       "      <td>40.745706</td>\n",
       "      <td>-73.929565</td>\n",
       "      <td>116</td>\n",
       "      <td>1068.75</td>\n",
       "      <td>1331</td>\n",
       "      <td>1419.727333</td>\n",
       "      <td>1068.75</td>\n",
       "      <td>1331</td>\n",
       "    </tr>\n",
       "    <tr>\n",
       "      <th>1</th>\n",
       "      <td>141 Lake Avenue Realty c/o JR Produce, Inc.</td>\n",
       "      <td>141 Lake Avenue</td>\n",
       "      <td>Wholesale/Warehouse/Distribution</td>\n",
       "      <td>ICIP</td>\n",
       "      <td>2009-12-08</td>\n",
       "      <td>47512.89</td>\n",
       "      <td>STATEN IS</td>\n",
       "      <td>40.633153</td>\n",
       "      <td>-74.150999</td>\n",
       "      <td>96</td>\n",
       "      <td>494.93</td>\n",
       "      <td>1390</td>\n",
       "      <td>336.525000</td>\n",
       "      <td>494.93</td>\n",
       "      <td>1390</td>\n",
       "    </tr>\n",
       "    <tr>\n",
       "      <th>2</th>\n",
       "      <td>14-10 123rd Street LLC</td>\n",
       "      <td>14-10 123rd Street</td>\n",
       "      <td>Commercial</td>\n",
       "      <td>ICIP</td>\n",
       "      <td>2011-03-04</td>\n",
       "      <td>21322.89</td>\n",
       "      <td>QUEENS</td>\n",
       "      <td>40.785144</td>\n",
       "      <td>-73.844833</td>\n",
       "      <td>81</td>\n",
       "      <td>263.25</td>\n",
       "      <td>2195</td>\n",
       "      <td>1079.380000</td>\n",
       "      <td>263.25</td>\n",
       "      <td>2195</td>\n",
       "    </tr>\n",
       "  </tbody>\n",
       "</table>\n",
       "</div>"
      ],
      "text/plain": [
       "                                  Company Name             Address  \\\n",
       "0                         139 ACA Realty, Inc.   43-23 35th Street   \n",
       "1  141 Lake Avenue Realty c/o JR Produce, Inc.     141 Lake Avenue   \n",
       "2                       14-10 123rd Street LLC  14-10 123rd Street   \n",
       "\n",
       "                           Industry Program Effective Date    Savings  \\\n",
       "0                        Commercial    ICIP     2008-04-07  123975.24   \n",
       "1  Wholesale/Warehouse/Distribution    ICIP     2009-12-08   47512.89   \n",
       "2                        Commercial    ICIP     2011-03-04   21322.89   \n",
       "\n",
       "     Borough   Latitude  Longitude  Month Count  Periodic Savings over Months  \\\n",
       "0  QUEENS     40.745706 -73.929565          116                       1068.75   \n",
       "1  STATEN IS  40.633153 -74.150999           96                        494.93   \n",
       "2  QUEENS     40.785144 -73.844833           81                        263.25   \n",
       "\n",
       "   Total Tree Count within 0.5 Mile  Periodic Savings within 0.5 Mile  \\\n",
       "0                              1331                       1419.727333   \n",
       "1                              1390                        336.525000   \n",
       "2                              2195                       1079.380000   \n",
       "\n",
       "   RadiusInPixelsRange5-50  FillRedsFromMean  \n",
       "0                  1068.75              1331  \n",
       "1                   494.93              1390  \n",
       "2                   263.25              2195  "
      ]
     },
     "execution_count": 27,
     "metadata": {},
     "output_type": "execute_result"
    }
   ],
   "source": [
    "# See what we did\n",
    "ready_geotable[:3]"
   ]
  },
  {
   "cell_type": "markdown",
   "metadata": {},
   "source": [
    "__Hypothesis:<br>__\n",
    "- Bigger circle tend to be darker<br>\n",
    "- Also, companies who saved the more money tend to be surrounded by more trees.<br>\n",
    "\n",
    "__Discovery:<br>__\n",
    "- Biggest circles are found in Bronx and STATEN IS<br>\n",
    "- Bigger circles in Bronx are indeed surrounded by more trees<br>\n",
    "<font color=red>(ex.Albert Einstein College of Medicine of Yeshiva Uni, saved 102919.54 dollars, surrounded by 419 trees; Montefiore Medical Center, saved 11400.63 in ICAP and 69506.82 in ICIP, surrounded by 303 trees) <br>\n",
    "<font color=black>- While the biggest circle of all is found in Stanley IS but the color is near transparent(means very few trees around) <br>\n",
    "<font color=red>(ex.VISY PAPER RECYCLING saved 274038.51, 41 trees)"
   ]
  },
  {
   "cell_type": "markdown",
   "metadata": {},
   "source": [
    "## Training Model "
   ]
  },
  {
   "cell_type": "code",
   "execution_count": 28,
   "metadata": {},
   "outputs": [
    {
     "data": {
      "text/html": [
       "<div>\n",
       "<style scoped>\n",
       "    .dataframe tbody tr th:only-of-type {\n",
       "        vertical-align: middle;\n",
       "    }\n",
       "\n",
       "    .dataframe tbody tr th {\n",
       "        vertical-align: top;\n",
       "    }\n",
       "\n",
       "    .dataframe thead th {\n",
       "        text-align: right;\n",
       "    }\n",
       "</style>\n",
       "<table border=\"1\" class=\"dataframe\">\n",
       "  <thead>\n",
       "    <tr style=\"text-align: right;\">\n",
       "      <th></th>\n",
       "      <th>Company Name</th>\n",
       "      <th>Address</th>\n",
       "      <th>Industry</th>\n",
       "      <th>Program</th>\n",
       "      <th>Effective Date</th>\n",
       "      <th>Savings</th>\n",
       "      <th>Borough</th>\n",
       "      <th>Latitude</th>\n",
       "      <th>Longitude</th>\n",
       "      <th>Month Count</th>\n",
       "      <th>Periodic Savings over Months</th>\n",
       "      <th>Total Tree Count within 0.5 Mile</th>\n",
       "      <th>Periodic Savings within 0.5 Mile</th>\n",
       "    </tr>\n",
       "  </thead>\n",
       "  <tbody>\n",
       "    <tr>\n",
       "      <th>0</th>\n",
       "      <td>139 ACA Realty, Inc.</td>\n",
       "      <td>43-23 35th Street</td>\n",
       "      <td>Commercial</td>\n",
       "      <td>ICIP</td>\n",
       "      <td>2008-04-07</td>\n",
       "      <td>123975.24</td>\n",
       "      <td>QUEENS</td>\n",
       "      <td>40.745706</td>\n",
       "      <td>-73.929565</td>\n",
       "      <td>116</td>\n",
       "      <td>1068.75</td>\n",
       "      <td>1331</td>\n",
       "      <td>1419.727333</td>\n",
       "    </tr>\n",
       "    <tr>\n",
       "      <th>1</th>\n",
       "      <td>141 Lake Avenue Realty c/o JR Produce, Inc.</td>\n",
       "      <td>141 Lake Avenue</td>\n",
       "      <td>Wholesale/Warehouse/Distribution</td>\n",
       "      <td>ICIP</td>\n",
       "      <td>2009-12-08</td>\n",
       "      <td>47512.89</td>\n",
       "      <td>STATEN IS</td>\n",
       "      <td>40.633153</td>\n",
       "      <td>-74.150999</td>\n",
       "      <td>96</td>\n",
       "      <td>494.93</td>\n",
       "      <td>1390</td>\n",
       "      <td>336.525000</td>\n",
       "    </tr>\n",
       "    <tr>\n",
       "      <th>2</th>\n",
       "      <td>14-10 123rd Street LLC</td>\n",
       "      <td>14-10 123rd Street</td>\n",
       "      <td>Commercial</td>\n",
       "      <td>ICIP</td>\n",
       "      <td>2011-03-04</td>\n",
       "      <td>21322.89</td>\n",
       "      <td>QUEENS</td>\n",
       "      <td>40.785144</td>\n",
       "      <td>-73.844833</td>\n",
       "      <td>81</td>\n",
       "      <td>263.25</td>\n",
       "      <td>2195</td>\n",
       "      <td>1079.380000</td>\n",
       "    </tr>\n",
       "  </tbody>\n",
       "</table>\n",
       "</div>"
      ],
      "text/plain": [
       "                                  Company Name             Address  \\\n",
       "0                         139 ACA Realty, Inc.   43-23 35th Street   \n",
       "1  141 Lake Avenue Realty c/o JR Produce, Inc.     141 Lake Avenue   \n",
       "2                       14-10 123rd Street LLC  14-10 123rd Street   \n",
       "\n",
       "                           Industry Program Effective Date    Savings  \\\n",
       "0                        Commercial    ICIP     2008-04-07  123975.24   \n",
       "1  Wholesale/Warehouse/Distribution    ICIP     2009-12-08   47512.89   \n",
       "2                        Commercial    ICIP     2011-03-04   21322.89   \n",
       "\n",
       "     Borough   Latitude  Longitude  Month Count  Periodic Savings over Months  \\\n",
       "0  QUEENS     40.745706 -73.929565          116                       1068.75   \n",
       "1  STATEN IS  40.633153 -74.150999           96                        494.93   \n",
       "2  QUEENS     40.785144 -73.844833           81                        263.25   \n",
       "\n",
       "   Total Tree Count within 0.5 Mile  Periodic Savings within 0.5 Mile  \n",
       "0                              1331                       1419.727333  \n",
       "1                              1390                        336.525000  \n",
       "2                              2195                       1079.380000  "
      ]
     },
     "execution_count": 28,
     "metadata": {},
     "output_type": "execute_result"
    }
   ],
   "source": [
    "#url1 = 'https://raw.githubusercontent.com/wzmemo/NYC_Open_Data_Business_Savings/master/Training_Data.csv'\n",
    "prediction_table = ready_table.copy()\n",
    "prediction_table[:3]"
   ]
  },
  {
   "cell_type": "code",
   "execution_count": 29,
   "metadata": {},
   "outputs": [
    {
     "data": {
      "text/html": [
       "<div>\n",
       "<style scoped>\n",
       "    .dataframe tbody tr th:only-of-type {\n",
       "        vertical-align: middle;\n",
       "    }\n",
       "\n",
       "    .dataframe tbody tr th {\n",
       "        vertical-align: top;\n",
       "    }\n",
       "\n",
       "    .dataframe thead th {\n",
       "        text-align: right;\n",
       "    }\n",
       "</style>\n",
       "<table border=\"1\" class=\"dataframe\">\n",
       "  <thead>\n",
       "    <tr style=\"text-align: right;\">\n",
       "      <th></th>\n",
       "      <th>Total Tree Count within 0.5 Mile</th>\n",
       "      <th>Periodic Savings within 0.5 Mile</th>\n",
       "      <th>Periodic Savings over Months</th>\n",
       "    </tr>\n",
       "  </thead>\n",
       "  <tbody>\n",
       "    <tr>\n",
       "      <th>0</th>\n",
       "      <td>1331</td>\n",
       "      <td>1419.727333</td>\n",
       "      <td>1068.75</td>\n",
       "    </tr>\n",
       "    <tr>\n",
       "      <th>1</th>\n",
       "      <td>1390</td>\n",
       "      <td>336.525000</td>\n",
       "      <td>494.93</td>\n",
       "    </tr>\n",
       "    <tr>\n",
       "      <th>2</th>\n",
       "      <td>2195</td>\n",
       "      <td>1079.380000</td>\n",
       "      <td>263.25</td>\n",
       "    </tr>\n",
       "    <tr>\n",
       "      <th>3</th>\n",
       "      <td>1254</td>\n",
       "      <td>2846.165714</td>\n",
       "      <td>4200.66</td>\n",
       "    </tr>\n",
       "    <tr>\n",
       "      <th>4</th>\n",
       "      <td>1136</td>\n",
       "      <td>1517.730217</td>\n",
       "      <td>2016.42</td>\n",
       "    </tr>\n",
       "  </tbody>\n",
       "</table>\n",
       "</div>"
      ],
      "text/plain": [
       "   Total Tree Count within 0.5 Mile  Periodic Savings within 0.5 Mile  \\\n",
       "0                              1331                       1419.727333   \n",
       "1                              1390                        336.525000   \n",
       "2                              2195                       1079.380000   \n",
       "3                              1254                       2846.165714   \n",
       "4                              1136                       1517.730217   \n",
       "\n",
       "   Periodic Savings over Months  \n",
       "0                       1068.75  \n",
       "1                        494.93  \n",
       "2                        263.25  \n",
       "3                       4200.66  \n",
       "4                       2016.42  "
      ]
     },
     "execution_count": 29,
     "metadata": {},
     "output_type": "execute_result"
    }
   ],
   "source": [
    "prediction_table = prediction_table[['Total Tree Count within 0.5 Mile',\n",
    "                                     'Periodic Savings within 0.5 Mile', 'Periodic Savings over Months']]\n",
    "prediction_table.head()"
   ]
  },
  {
   "cell_type": "code",
   "execution_count": 30,
   "metadata": {},
   "outputs": [
    {
     "data": {
      "image/png": "[encoded data removed]",
      "text/plain": [
       "<Figure size 432x288 with 3 Axes>"
      ]
     },
     "metadata": {
      "needs_background": "light"
     },
     "output_type": "display_data"
    }
   ],
   "source": [
    "prediction_table.plot(kind = 'box', subplots = True, layout = (1,3), sharex = False, sharey = False)\n",
    "plt.show() #what's that outlier in our savings? "
   ]
  },
  {
   "cell_type": "code",
   "execution_count": 31,
   "metadata": {},
   "outputs": [],
   "source": [
    "X1 = prediction_table[['Periodic Savings within 0.5 Mile','Total Tree Count within 0.5 Mile']].values\n",
    "Y1 = prediction_table['Periodic Savings over Months']"
   ]
  },
  {
   "cell_type": "code",
   "execution_count": 32,
   "metadata": {},
   "outputs": [
    {
     "data": {
      "text/plain": [
       "-2416.0495170359877"
      ]
     },
     "execution_count": 32,
     "metadata": {},
     "output_type": "execute_result"
    }
   ],
   "source": [
    "model1 = LinearRegression()\n",
    "model1.fit(X1, Y1)\n",
    "cross_val_score(model1, X1, Y1, cv=3, scoring='neg_mean_absolute_error').mean()"
   ]
  },
  {
   "cell_type": "code",
   "execution_count": 33,
   "metadata": {},
   "outputs": [
    {
     "data": {
      "text/plain": [
       "-2410.992224823291"
      ]
     },
     "execution_count": 33,
     "metadata": {},
     "output_type": "execute_result"
    }
   ],
   "source": [
    "model2 = BayesianRidge()\n",
    "model2.fit(X1, Y1)\n",
    "cross_val_score(model2, X1, Y1, cv=3, scoring='neg_mean_absolute_error').mean()"
   ]
  },
  {
   "cell_type": "code",
   "execution_count": 34,
   "metadata": {},
   "outputs": [
    {
     "data": {
      "text/plain": [
       "-2836.098137886751"
      ]
     },
     "execution_count": 34,
     "metadata": {},
     "output_type": "execute_result"
    }
   ],
   "source": [
    "model3 = SVR()\n",
    "model3.fit(X1, Y1)\n",
    "cross_val_score(model3, X1, Y1, cv=3, scoring='neg_mean_absolute_error').mean()"
   ]
  },
  {
   "cell_type": "code",
   "execution_count": 35,
   "metadata": {},
   "outputs": [],
   "source": [
    "import pickle\n",
    "pickle.dump(model2, open('/tmp/model.pkl', 'wb'))"
   ]
  },
  {
   "cell_type": "code",
   "execution_count": 36,
   "metadata": {},
   "outputs": [
    {
     "data": {
      "text/plain": [
       "BayesianRidge(alpha_1=1e-06, alpha_2=1e-06, compute_score=False, copy_X=True,\n",
       "       fit_intercept=True, lambda_1=1e-06, lambda_2=1e-06, n_iter=300,\n",
       "       normalize=False, tol=0.001, verbose=False)"
      ]
     },
     "execution_count": 36,
     "metadata": {},
     "output_type": "execute_result"
    }
   ],
   "source": [
    "# Load model\n",
    "from pickle import load\n",
    "model = load(open('/tmp/model.pkl', 'rb'))  # !!! Replace dummy model with your model\n",
    "model"
   ]
  },
  {
   "cell_type": "code",
   "execution_count": 37,
   "metadata": {},
   "outputs": [],
   "source": [
    "url2 = 'https://raw.githubusercontent.com/wzmemo/NYC_Open_Data_Business_Savings/master/Testing_Data.csv'\n",
    "testing_table = pd.read_csv(url2)"
   ]
  },
  {
   "cell_type": "code",
   "execution_count": 38,
   "metadata": {},
   "outputs": [],
   "source": [
    "testing_table = testing_table.drop(['Unnamed: 0'], axis = 1)"
   ]
  },
  {
   "cell_type": "code",
   "execution_count": 39,
   "metadata": {},
   "outputs": [
    {
     "data": {
      "text/plain": [
       "array([695.90254332, -30.41407771, 439.4542031 ])"
      ]
     },
     "execution_count": 39,
     "metadata": {},
     "output_type": "execute_result"
    }
   ],
   "source": [
    "X = testing_table[['Total Tree Count within 0.5 Mile', 'Periodic Savings within 0.5 Mile']].values\n",
    "y = model.predict(X)\n",
    "y"
   ]
  },
  {
   "cell_type": "code",
   "execution_count": 40,
   "metadata": {},
   "outputs": [
    {
     "data": {
      "text/html": [
       "<div>\n",
       "<style scoped>\n",
       "    .dataframe tbody tr th:only-of-type {\n",
       "        vertical-align: middle;\n",
       "    }\n",
       "\n",
       "    .dataframe tbody tr th {\n",
       "        vertical-align: top;\n",
       "    }\n",
       "\n",
       "    .dataframe thead th {\n",
       "        text-align: right;\n",
       "    }\n",
       "</style>\n",
       "<table border=\"1\" class=\"dataframe\">\n",
       "  <thead>\n",
       "    <tr style=\"text-align: right;\">\n",
       "      <th></th>\n",
       "      <th>Address</th>\n",
       "      <th>Total Tree Count within 0.5 Mile</th>\n",
       "      <th>Periodic Savings within 0.5 Mile</th>\n",
       "      <th>Periodic Savings over Months</th>\n",
       "    </tr>\n",
       "  </thead>\n",
       "  <tbody>\n",
       "    <tr>\n",
       "      <th>0</th>\n",
       "      <td>43-23 35th Street</td>\n",
       "      <td>683</td>\n",
       "      <td>1423.931818</td>\n",
       "      <td>695.902543</td>\n",
       "    </tr>\n",
       "    <tr>\n",
       "      <th>1</th>\n",
       "      <td>141 Lake Avenue</td>\n",
       "      <td>21</td>\n",
       "      <td>336.525000</td>\n",
       "      <td>-30.414078</td>\n",
       "    </tr>\n",
       "    <tr>\n",
       "      <th>2</th>\n",
       "      <td>14-10 123rd Street</td>\n",
       "      <td>447</td>\n",
       "      <td>1079.380000</td>\n",
       "      <td>439.454203</td>\n",
       "    </tr>\n",
       "  </tbody>\n",
       "</table>\n",
       "</div>"
      ],
      "text/plain": [
       "              Address  Total Tree Count within 0.5 Mile  \\\n",
       "0   43-23 35th Street                               683   \n",
       "1     141 Lake Avenue                                21   \n",
       "2  14-10 123rd Street                               447   \n",
       "\n",
       "   Periodic Savings within 0.5 Mile  Periodic Savings over Months  \n",
       "0                       1423.931818                    695.902543  \n",
       "1                        336.525000                    -30.414078  \n",
       "2                       1079.380000                    439.454203  "
      ]
     },
     "execution_count": 40,
     "metadata": {},
     "output_type": "execute_result"
    }
   ],
   "source": [
    "testing_table['Periodic Savings over Months'] = y\n",
    "testing_table"
   ]
  },
  {
   "cell_type": "markdown",
   "metadata": {},
   "source": [
    "## Render Table"
   ]
  },
  {
   "cell_type": "code",
   "execution_count": 41,
   "metadata": {},
   "outputs": [
    {
     "name": "stdout",
     "output_type": "stream",
     "text": [
      "a_table_path = /tmp/a.csv\n"
     ]
    }
   ],
   "source": [
    "# Save file to target folder to include it in the result download\n",
    "target_path = target_folder + '/a.csv'\n",
    "testing_table.to_csv(target_path, index=False)\n",
    "print(f'a_table_path = {target_path}')  # Print table_path to render table"
   ]
  },
  {
   "cell_type": "code",
   "execution_count": 42,
   "metadata": {},
   "outputs": [
    {
     "data": {
      "image/png": "[encoded data removed]",
      "text/plain": [
       "<Figure size 432x288 with 3 Axes>"
      ]
     },
     "metadata": {
      "needs_background": "light"
     },
     "output_type": "display_data"
    }
   ],
   "source": [
    "# A step further: \n",
    "prediction_table.plot(kind = 'box', subplots = True, layout = (1,3), sharex = False, sharey = False)\n",
    "plt.show() #what's are outliers in our savings? "
   ]
  },
  {
   "cell_type": "markdown",
   "metadata": {},
   "source": [
    "## This is the end of the workbook :)"
   ]
  }
 ],
 "metadata": {
  "kernelspec": {
   "display_name": "Python 3",
   "language": "python",
   "name": "python3"
  },
  "language_info": {
   "codemirror_mode": {
    "name": "ipython",
    "version": 3
   },
   "file_extension": ".py",
   "mimetype": "text/x-python",
   "name": "python",
   "nbconvert_exporter": "python",
   "pygments_lexer": "ipython3",
   "version": "3.7.0"
  }
 },
 "nbformat": 4,
 "nbformat_minor": 2
}
